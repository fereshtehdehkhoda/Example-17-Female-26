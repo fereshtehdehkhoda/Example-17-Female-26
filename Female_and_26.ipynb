{
  "cells": [
    {
      "cell_type": "markdown",
      "metadata": {
        "id": "view-in-github",
        "colab_type": "text"
      },
      "source": [
        "<a href=\"https://colab.research.google.com/github/fereshtehdehkhoda/Example-17-Female-26/blob/main/Female_and_26.ipynb\" target=\"_parent\"><img src=\"https://colab.research.google.com/assets/colab-badge.svg\" alt=\"Open In Colab\"/></a>"
      ]
    },
    {
      "cell_type": "markdown",
      "id": "40b57998-d9d9-458a-9127-9e5b2959ba43",
      "metadata": {
        "id": "40b57998-d9d9-458a-9127-9e5b2959ba43"
      },
      "source": [
        "# Female & >26"
      ]
    },
    {
      "cell_type": "code",
      "execution_count": null,
      "id": "b3faef2c-49f1-41db-954d-8ef3fd7cfd26",
      "metadata": {
        "id": "b3faef2c-49f1-41db-954d-8ef3fd7cfd26"
      },
      "outputs": [],
      "source": [
        "#چند درصد مشتریان زن، بالای 26 سال سن دارند؟"
      ]
    },
    {
      "cell_type": "code",
      "execution_count": null,
      "id": "cce6c082-0d94-443d-aa96-29e14ec20f91",
      "metadata": {
        "id": "cce6c082-0d94-443d-aa96-29e14ec20f91"
      },
      "outputs": [],
      "source": [
        "import pandas as pd\n",
        "import numpy as np"
      ]
    },
    {
      "cell_type": "code",
      "execution_count": null,
      "id": "4c4906b0-d2dd-44f9-ab6d-f06e2103a863",
      "metadata": {
        "id": "4c4906b0-d2dd-44f9-ab6d-f06e2103a863"
      },
      "outputs": [],
      "source": [
        "data=pd.read_csv('sample_data.csv')"
      ]
    },
    {
      "cell_type": "code",
      "execution_count": null,
      "id": "92ec44bd-4bc5-439b-9960-efab97b45976",
      "metadata": {
        "id": "92ec44bd-4bc5-439b-9960-efab97b45976",
        "outputId": "46b756b3-c87a-49d8-916e-cf58f9ca9e50"
      },
      "outputs": [
        {
          "data": {
            "text/html": [
              "<div>\n",
              "<style scoped>\n",
              "    .dataframe tbody tr th:only-of-type {\n",
              "        vertical-align: middle;\n",
              "    }\n",
              "\n",
              "    .dataframe tbody tr th {\n",
              "        vertical-align: top;\n",
              "    }\n",
              "\n",
              "    .dataframe thead th {\n",
              "        text-align: right;\n",
              "    }\n",
              "</style>\n",
              "<table border=\"1\" class=\"dataframe\">\n",
              "  <thead>\n",
              "    <tr style=\"text-align: right;\">\n",
              "      <th></th>\n",
              "      <th>id</th>\n",
              "      <th>sex</th>\n",
              "      <th>is_employed</th>\n",
              "      <th>income</th>\n",
              "      <th>marital_status</th>\n",
              "      <th>health_insurance</th>\n",
              "      <th>housing_type</th>\n",
              "      <th>recent_move</th>\n",
              "      <th>num_vehicles</th>\n",
              "      <th>age</th>\n",
              "      <th>state_of_res</th>\n",
              "    </tr>\n",
              "  </thead>\n",
              "  <tbody>\n",
              "    <tr>\n",
              "      <th>0</th>\n",
              "      <td>2068</td>\n",
              "      <td>F</td>\n",
              "      <td>False</td>\n",
              "      <td>11300.0</td>\n",
              "      <td>Married</td>\n",
              "      <td>True</td>\n",
              "      <td>Homeowner free and clear</td>\n",
              "      <td>False</td>\n",
              "      <td>2.0</td>\n",
              "      <td>49.0</td>\n",
              "      <td>Michigan</td>\n",
              "    </tr>\n",
              "    <tr>\n",
              "      <th>1</th>\n",
              "      <td>2073</td>\n",
              "      <td>F</td>\n",
              "      <td>False</td>\n",
              "      <td>0.0</td>\n",
              "      <td>Married</td>\n",
              "      <td>True</td>\n",
              "      <td>Rented</td>\n",
              "      <td>True</td>\n",
              "      <td>3.0</td>\n",
              "      <td>40.0</td>\n",
              "      <td>Florida</td>\n",
              "    </tr>\n",
              "    <tr>\n",
              "      <th>2</th>\n",
              "      <td>2848</td>\n",
              "      <td>M</td>\n",
              "      <td>True</td>\n",
              "      <td>45000.0</td>\n",
              "      <td>Never Married</td>\n",
              "      <td>False</td>\n",
              "      <td>Rented</td>\n",
              "      <td>True</td>\n",
              "      <td>3.0</td>\n",
              "      <td>29.0</td>\n",
              "      <td>Georgia</td>\n",
              "    </tr>\n",
              "    <tr>\n",
              "      <th>3</th>\n",
              "      <td>5641</td>\n",
              "      <td>M</td>\n",
              "      <td>True</td>\n",
              "      <td>20000.0</td>\n",
              "      <td>Never Married</td>\n",
              "      <td>False</td>\n",
              "      <td>Occupied with no rent</td>\n",
              "      <td>False</td>\n",
              "      <td>0.0</td>\n",
              "      <td>22.0</td>\n",
              "      <td>New Mexico</td>\n",
              "    </tr>\n",
              "    <tr>\n",
              "      <th>4</th>\n",
              "      <td>6369</td>\n",
              "      <td>F</td>\n",
              "      <td>True</td>\n",
              "      <td>42000.0</td>\n",
              "      <td>Never Married</td>\n",
              "      <td>True</td>\n",
              "      <td>Rented</td>\n",
              "      <td>True</td>\n",
              "      <td>1.0</td>\n",
              "      <td>31.0</td>\n",
              "      <td>Florida</td>\n",
              "    </tr>\n",
              "  </tbody>\n",
              "</table>\n",
              "</div>"
            ],
            "text/plain": [
              "     id sex is_employed   income marital_status  health_insurance  \\\n",
              "0  2068   F       False  11300.0        Married              True   \n",
              "1  2073   F       False      0.0        Married              True   \n",
              "2  2848   M        True  45000.0  Never Married             False   \n",
              "3  5641   M        True  20000.0  Never Married             False   \n",
              "4  6369   F        True  42000.0  Never Married              True   \n",
              "\n",
              "               housing_type recent_move  num_vehicles   age state_of_res  \n",
              "0  Homeowner free and clear       False           2.0  49.0     Michigan  \n",
              "1                    Rented        True           3.0  40.0      Florida  \n",
              "2                    Rented        True           3.0  29.0      Georgia  \n",
              "3     Occupied with no rent       False           0.0  22.0   New Mexico  \n",
              "4                    Rented        True           1.0  31.0      Florida  "
            ]
          },
          "execution_count": 10,
          "metadata": {},
          "output_type": "execute_result"
        }
      ],
      "source": [
        "data.head()"
      ]
    },
    {
      "cell_type": "code",
      "execution_count": null,
      "id": "8604cded-16cf-4b59-9c0c-a8a768e3fe4c",
      "metadata": {
        "id": "8604cded-16cf-4b59-9c0c-a8a768e3fe4c",
        "outputId": "359fb7ce-4cb6-44e2-beaa-2386276e6356"
      },
      "outputs": [
        {
          "name": "stdout",
          "output_type": "stream",
          "text": [
            "<class 'pandas.core.frame.DataFrame'>\n",
            "RangeIndex: 500 entries, 0 to 499\n",
            "Data columns (total 11 columns):\n",
            " #   Column            Non-Null Count  Dtype  \n",
            "---  ------            --------------  -----  \n",
            " 0   id                500 non-null    int64  \n",
            " 1   sex               500 non-null    object \n",
            " 2   is_employed       435 non-null    object \n",
            " 3   income            493 non-null    float64\n",
            " 4   marital_status    500 non-null    object \n",
            " 5   health_insurance  500 non-null    bool   \n",
            " 6   housing_type      466 non-null    object \n",
            " 7   recent_move       466 non-null    object \n",
            " 8   num_vehicles      466 non-null    float64\n",
            " 9   age               500 non-null    float64\n",
            " 10  state_of_res      500 non-null    object \n",
            "dtypes: bool(1), float64(3), int64(1), object(6)\n",
            "memory usage: 39.7+ KB\n"
          ]
        }
      ],
      "source": [
        "data.info()"
      ]
    },
    {
      "cell_type": "code",
      "execution_count": null,
      "id": "7b326bc7-2074-4bf7-98ab-77ccc3ea7713",
      "metadata": {
        "id": "7b326bc7-2074-4bf7-98ab-77ccc3ea7713",
        "outputId": "32dde90a-3f0f-42a2-8146-2f78acda8e70"
      },
      "outputs": [
        {
          "data": {
            "text/plain": [
              "93.36283185840708"
            ]
          },
          "execution_count": 24,
          "metadata": {},
          "output_type": "execute_result"
        }
      ],
      "source": [
        "np.sum((data['sex']=='F') & (data['age']>26))/np.sum(data['sex']=='F')*100"
      ]
    }
  ],
  "metadata": {
    "kernelspec": {
      "display_name": "Python 3 (ipykernel)",
      "language": "python",
      "name": "python3"
    },
    "language_info": {
      "codemirror_mode": {
        "name": "ipython",
        "version": 3
      },
      "file_extension": ".py",
      "mimetype": "text/x-python",
      "name": "python",
      "nbconvert_exporter": "python",
      "pygments_lexer": "ipython3",
      "version": "3.12.4"
    },
    "colab": {
      "provenance": [],
      "include_colab_link": true
    }
  },
  "nbformat": 4,
  "nbformat_minor": 5
}